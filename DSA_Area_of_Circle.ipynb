{
  "nbformat": 4,
  "nbformat_minor": 0,
  "metadata": {
    "colab": {
      "provenance": [],
      "authorship_tag": "ABX9TyOIpzVnzBHTCROrW46Rf0XW",
      "include_colab_link": true
    },
    "kernelspec": {
      "name": "python3",
      "display_name": "Python 3"
    },
    "language_info": {
      "name": "python"
    }
  },
  "cells": [
    {
      "cell_type": "markdown",
      "metadata": {
        "id": "view-in-github",
        "colab_type": "text"
      },
      "source": [
        "<a href=\"https://colab.research.google.com/github/ChelseyGuasis/CPEN65-1/blob/main/DSA_Area_of_Circle.ipynb\" target=\"_parent\"><img src=\"https://colab.research.google.com/assets/colab-badge.svg\" alt=\"Open In Colab\"/></a>"
      ]
    },
    {
      "cell_type": "code",
      "execution_count": 65,
      "metadata": {
        "colab": {
          "base_uri": "https://localhost:8080/"
        },
        "id": "cFEzaSoWAbdO",
        "outputId": "30215ae3-5c5e-462b-fc4f-11cd89afd259"
      },
      "outputs": [
        {
          "output_type": "stream",
          "name": "stdout",
          "text": [
            "Given part of the circle (Diameter or Radius): Radius\n",
            "Enter the given value: 69\n",
            "Enter the measure unit of radius (e.g. in, cm) : m\n",
            "Area of circle is :  14949.54 m^2\n"
          ]
        }
      ],
      "source": [
        "part_of_circle = input(\"Given part of the circle (Diameter or Radius): \")\n",
        "measurement = float(input(\"Enter the given value: \"))\n",
        "unit = input(\"Enter the measure unit of radius (e.g. in, cm) : \")\n",
        "\n",
        "class Circle:\n",
        "    pi = 3.14\n",
        "\n",
        "    def Area(self):\n",
        "      if part_of_circle == \"Radius\":\n",
        "        A1 = (Circle.pi * (measurement**2))\n",
        "        print(\"Area of circle is : \",round(A1,2),unit+\"^2\")\n",
        "      else:\n",
        "        A2 = (Circle.pi*(measurement**2)/4)\n",
        "        print(\"Area of circle is : \",round(A2,2),unit+\"^2\")\n",
        "\n",
        "circ = Circle\n",
        "circ.Area(0)"
      ]
    }
  ]
}