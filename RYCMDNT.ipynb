{
  "nbformat": 4,
  "nbformat_minor": 0,
  "metadata": {
    "colab": {
      "provenance": [],
      "authorship_tag": "ABX9TyOvqGZ1uh1n6RM3xQGgWli6",
      "include_colab_link": true
    },
    "kernelspec": {
      "name": "python3",
      "display_name": "Python 3"
    },
    "language_info": {
      "name": "python"
    }
  },
  "cells": [
    {
      "cell_type": "markdown",
      "metadata": {
        "id": "view-in-github",
        "colab_type": "text"
      },
      "source": [
        "<a href=\"https://colab.research.google.com/github/ChelseyGuasis/CPEN65-1/blob/main/RYCMDNT.ipynb\" target=\"_parent\"><img src=\"https://colab.research.google.com/assets/colab-badge.svg\" alt=\"Open In Colab\"/></a>"
      ]
    },
    {
      "cell_type": "markdown",
      "source": [
        "Array Module in Python"
      ],
      "metadata": {
        "id": "_gtYCTy455si"
      }
    },
    {
      "cell_type": "code",
      "execution_count": 1,
      "metadata": {
        "colab": {
          "base_uri": "https://localhost:8080/"
        },
        "id": "ERaaA9qT5wRu",
        "outputId": "24a2d487-83e9-41f7-bd7b-64536deaed52"
      },
      "outputs": [
        {
          "output_type": "stream",
          "name": "stdout",
          "text": [
            "i\n",
            "f\n"
          ]
        }
      ],
      "source": [
        "# Getting typecodes\n",
        "import array as arr\n",
        "arr.typecodes\n",
        "a = arr.array('i',[1,2,3,4,5])\n",
        "print(a.typecode)\n",
        "b = arr.array('f',[1.5,2.5,3.5,4.5,5.5])\n",
        "print(b.typecode)"
      ]
    },
    {
      "cell_type": "code",
      "source": [
        "#What are the output of these\n",
        "import array as arr\n",
        "a = arr.array('i',[4,5,6,7])\n",
        "print(a)\n",
        "\n",
        "c = a.insert(1,2)\n",
        "print(a)\n",
        "a.insert(-1,0)\n",
        "print(a)\n",
        "a.insert(6,8)\n",
        "print(a)\n",
        "a.insert(10,-1)\n",
        "print(a)"
      ],
      "metadata": {
        "colab": {
          "base_uri": "https://localhost:8080/"
        },
        "id": "wdEhXToX7BD2",
        "outputId": "e194a7ff-125b-4ecb-918b-1ff345a8d5a2"
      },
      "execution_count": 2,
      "outputs": [
        {
          "output_type": "stream",
          "name": "stdout",
          "text": [
            "array('i', [4, 5, 6, 7])\n",
            "array('i', [4, 2, 5, 6, 7])\n",
            "array('i', [4, 2, 5, 6, 0, 7])\n",
            "array('i', [4, 2, 5, 6, 0, 7, 8])\n",
            "array('i', [4, 2, 5, 6, 0, 7, 8, -1])\n"
          ]
        }
      ]
    },
    {
      "cell_type": "code",
      "source": [
        "from IPython.core.history import HistorySavingThread\n",
        "#Python program to create a singly inked of vowel in english\n",
        "\n",
        "#Node Class\n",
        "\n",
        "class Node:\n",
        "  #function to  initialize the node object\n",
        "  def __init__(self,data):\n",
        "    self.data = data #assign data\n",
        "    self.next = None #initialize as null/empty\n",
        "\n",
        "#linked list that contains node object\n",
        "\n",
        "class LinkedList:\n",
        "  def __init__(self):\n",
        "    self.head = None\n",
        "\n",
        "  def printlist(self):\n",
        "    temp = self.head\n",
        "    while(temp):\n",
        "      print(temp.data)\n",
        "      temp=temp.next\n",
        "\n",
        "#code execution starting from epty list\n",
        "llist = LinkedList()\n",
        "llist.head = Node(\"a\")\n",
        "second = Node(\"e\")\n",
        "third = Node(\"i\")\n",
        "fourth = Node(\"o\")\n",
        "fifth = Node(\"u\")\n",
        "\n",
        "llist.head.next = second\n",
        "second.next = third\n",
        "third.next = fourth\n",
        "fourth.next = fifth\n",
        "\n",
        "llist.printlist()"
      ],
      "metadata": {
        "colab": {
          "base_uri": "https://localhost:8080/"
        },
        "id": "p2glAfwm7ZLb",
        "outputId": "59b3542f-9eb1-4ff3-b2ef-1cab7c4fa093"
      },
      "execution_count": 3,
      "outputs": [
        {
          "output_type": "stream",
          "name": "stdout",
          "text": [
            "a\n",
            "e\n",
            "i\n",
            "o\n",
            "u\n"
          ]
        }
      ]
    }
  ]
}