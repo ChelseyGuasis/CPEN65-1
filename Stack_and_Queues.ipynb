{
  "nbformat": 4,
  "nbformat_minor": 0,
  "metadata": {
    "colab": {
      "provenance": [],
      "authorship_tag": "ABX9TyOF/0nzX3ACHSUahwQh16rR",
      "include_colab_link": true
    },
    "kernelspec": {
      "name": "python3",
      "display_name": "Python 3"
    },
    "language_info": {
      "name": "python"
    }
  },
  "cells": [
    {
      "cell_type": "markdown",
      "metadata": {
        "id": "view-in-github",
        "colab_type": "text"
      },
      "source": [
        "<a href=\"https://colab.research.google.com/github/ChelseyGuasis/CPEN65-1/blob/main/Stack_and_Queues.ipynb\" target=\"_parent\"><img src=\"https://colab.research.google.com/assets/colab-badge.svg\" alt=\"Open In Colab\"/></a>"
      ]
    },
    {
      "cell_type": "code",
      "execution_count": 8,
      "metadata": {
        "colab": {
          "base_uri": "https://localhost:8080/"
        },
        "id": "UzcD9B7Oekkm",
        "outputId": "514b7aa3-643f-4c09-d03d-c75e86f70bdf"
      },
      "outputs": [
        {
          "output_type": "stream",
          "name": "stdout",
          "text": [
            "['A', 'B', 'C']\n",
            "['A']\n"
          ]
        }
      ],
      "source": [
        "class Stack:           #Last In First Out/LIFO\n",
        "  def __init__(self):\n",
        "    self.stack = []       #stack implement using OOP concepts\n",
        "\n",
        "  def push(self,dataval):\n",
        "    if dataval not in self.stack:\n",
        "      return self.stack.append(dataval)\n",
        "    else:\n",
        "      return False\n",
        "  def pop(self):\n",
        "    if len(self.stack)<=0:\n",
        "      return(\"No element in the stack\")\n",
        "    else:\n",
        "      return self.stack.pop()\n",
        "\n",
        "AStack = Stack()\n",
        "AStack.push(\"A\")\n",
        "AStack.push(\"B\")\n",
        "AStack.push(\"C\")\n",
        "print(AStack.stack)\n",
        "AStack.pop()\n",
        "AStack.pop()\n",
        "print(AStack.stack)\n",
        "\n"
      ]
    },
    {
      "cell_type": "code",
      "source": [
        "#Application\n",
        "\n",
        "#Implement the above program by Queues Data Structure (enqueue and dequeue/FIFO principle)\n",
        "\n",
        "class Queues:           \n",
        "  def __init__(self):\n",
        "    self.queues = []       \n",
        "\n",
        "  def enqueue(self,dataval):\n",
        "    if dataval not in self.queues:\n",
        "      return self.queues.append(dataval)\n",
        "    else:\n",
        "      return False\n",
        "  def dequeue(self):\n",
        "    if len(self.queues)<=0:\n",
        "      return(\"No element in the queues\")\n",
        "    else:\n",
        "      return self.queues.pop(0)\n",
        "\n",
        "AQueuete = Queues()\n",
        "AQueuete.enqueue(\"A\")\n",
        "AQueuete.enqueue(\"B\")\n",
        "AQueuete.enqueue(\"C\")\n",
        "print(AQueuete.queues)\n",
        "AQueuete.dequeue()\n",
        "AQueuete.dequeue()\n",
        "print(AQueuete.queues)\n",
        "\n"
      ],
      "metadata": {
        "colab": {
          "base_uri": "https://localhost:8080/"
        },
        "id": "XZPV1vIOiDdP",
        "outputId": "6c2224f3-54fe-42bd-cdb8-9facf49cff34"
      },
      "execution_count": 16,
      "outputs": [
        {
          "output_type": "stream",
          "name": "stdout",
          "text": [
            "['A', 'B', 'C']\n",
            "['C']\n"
          ]
        }
      ]
    }
  ]
}