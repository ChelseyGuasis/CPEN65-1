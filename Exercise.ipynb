{
  "nbformat": 4,
  "nbformat_minor": 0,
  "metadata": {
    "colab": {
      "provenance": [],
      "authorship_tag": "ABX9TyOGX02n205nicn6drzw7b3R",
      "include_colab_link": true
    },
    "kernelspec": {
      "name": "python3",
      "display_name": "Python 3"
    },
    "language_info": {
      "name": "python"
    }
  },
  "cells": [
    {
      "cell_type": "markdown",
      "metadata": {
        "id": "view-in-github",
        "colab_type": "text"
      },
      "source": [
        "<a href=\"https://colab.research.google.com/github/ChelseyGuasis/CPEN65-1/blob/main/Exercise.ipynb\" target=\"_parent\"><img src=\"https://colab.research.google.com/assets/colab-badge.svg\" alt=\"Open In Colab\"/></a>"
      ]
    },
    {
      "cell_type": "code",
      "execution_count": 1,
      "metadata": {
        "id": "sc5K2S63F3b9",
        "colab": {
          "base_uri": "https://localhost:8080/"
        },
        "outputId": "c83c940e-883d-40d7-b43e-42c02e7cdcfe"
      },
      "outputs": [
        {
          "output_type": "stream",
          "name": "stdout",
          "text": [
            "s i s a u G L. y e s l e h C\n"
          ]
        }
      ],
      "source": [
        "name = [\"C\",\"h\",\"e\",\"l\",\"s\",\"e\",\"y\",\"L.\",\"G\",\"u\",\"a\",\"s\",\"i\",\"s\"]\n",
        "name.reverse()\n",
        "print(*name)"
      ]
    }
  ]
}