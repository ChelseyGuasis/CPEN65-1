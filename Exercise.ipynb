{
  "nbformat": 4,
  "nbformat_minor": 0,
  "metadata": {
    "colab": {
      "provenance": [],
      "authorship_tag": "ABX9TyN5I4xneccYJi9xoe4YT88z",
      "include_colab_link": true
    },
    "kernelspec": {
      "name": "python3",
      "display_name": "Python 3"
    },
    "language_info": {
      "name": "python"
    }
  },
  "cells": [
    {
      "cell_type": "markdown",
      "metadata": {
        "id": "view-in-github",
        "colab_type": "text"
      },
      "source": [
        "<a href=\"https://colab.research.google.com/github/ChelseyGuasis/CPEN65-1/blob/main/Exercise.ipynb\" target=\"_parent\"><img src=\"https://colab.research.google.com/assets/colab-badge.svg\" alt=\"Open In Colab\"/></a>"
      ]
    },
    {
      "cell_type": "code",
      "execution_count": 2,
      "metadata": {
        "id": "sc5K2S63F3b9",
        "colab": {
          "base_uri": "https://localhost:8080/"
        },
        "outputId": "6aaa70a8-bd49-4572-b15b-73b2354ce996"
      },
      "outputs": [
        {
          "output_type": "stream",
          "name": "stdout",
          "text": [
            "['s', 'i', 's', 'a', 'u', 'G', 'L.', 'y', 'e', 's', 'l', 'e', 'h', 'C']\n"
          ]
        }
      ],
      "source": [
        "name = [\"C\",\"h\",\"e\",\"l\",\"s\",\"e\",\"y\",\"L.\",\"G\",\"u\",\"a\",\"s\",\"i\",\"s\"]\n",
        "name.reverse()\n",
        "print(name)"
      ]
    }
  ]
}