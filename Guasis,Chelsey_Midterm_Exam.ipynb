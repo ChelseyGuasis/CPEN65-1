{
  "nbformat": 4,
  "nbformat_minor": 0,
  "metadata": {
    "colab": {
      "provenance": [],
      "authorship_tag": "ABX9TyPPD/+MVE5J7ed88kZ/u5dd",
      "include_colab_link": true
    },
    "kernelspec": {
      "name": "python3",
      "display_name": "Python 3"
    },
    "language_info": {
      "name": "python"
    }
  },
  "cells": [
    {
      "cell_type": "markdown",
      "metadata": {
        "id": "view-in-github",
        "colab_type": "text"
      },
      "source": [
        "<a href=\"https://colab.research.google.com/github/ChelseyGuasis/CPEN65-1/blob/main/Guasis%2CChelsey_Midterm_Exam.ipynb\" target=\"_parent\"><img src=\"https://colab.research.google.com/assets/colab-badge.svg\" alt=\"Open In Colab\"/></a>"
      ]
    },
    {
      "cell_type": "markdown",
      "source": [
        "1"
      ],
      "metadata": {
        "id": "q1qwsJkgIJOs"
      }
    },
    {
      "cell_type": "code",
      "execution_count": 33,
      "metadata": {
        "colab": {
          "base_uri": "https://localhost:8080/"
        },
        "id": "Mdg7IwMcEXkq",
        "outputId": "1b3160ab-c533-4911-b67b-911ecc7df258"
      },
      "outputs": [
        {
          "output_type": "stream",
          "name": "stdout",
          "text": [
            "array('i', [0, 1, 2, 3, 4, 5, 6, 7, 8, 9])\n",
            "Index: 5\n",
            "5\n",
            "The sum of 10 integers was: 45\n"
          ]
        }
      ],
      "source": [
        "from array import *\n",
        "arr = array(\"i\",[0,1,2,3,4,5,6,7,8,9])\n",
        "print(arr)\n",
        "\n",
        "ind = int(input(\"Index: \"))\n",
        "print (arr [ind])\n",
        "current = 0\n",
        "\n",
        "for x in arr:\n",
        "  sum = current + arr[x]\n",
        "  current = sum\n",
        "print(\"The sum of 10 integers was:\",(sum))"
      ]
    },
    {
      "cell_type": "markdown",
      "source": [
        "2"
      ],
      "metadata": {
        "id": "AcHVfCweK6cA"
      }
    },
    {
      "cell_type": "code",
      "source": [
        "from array import *\n",
        "numbers = array(\"i\",[1,2,3,4,5,6,7,8,9,10])\n",
        "print(\"Original array: \",(numbers))\n",
        "numbers.append(11)\n",
        "print(\"New List: \", numbers)"
      ],
      "metadata": {
        "colab": {
          "base_uri": "https://localhost:8080/"
        },
        "id": "kq-gbUuWK7GJ",
        "outputId": "24b93591-37b7-4643-ba0f-0efae5fa936e"
      },
      "execution_count": 16,
      "outputs": [
        {
          "output_type": "stream",
          "name": "stdout",
          "text": [
            "Original array:  array('i', [1, 2, 3, 4, 5, 6, 7, 8, 9, 10])\n",
            "New List:  array('i', [1, 2, 3, 4, 5, 6, 7, 8, 9, 10, 11])\n"
          ]
        }
      ]
    },
    {
      "cell_type": "markdown",
      "source": [
        "3"
      ],
      "metadata": {
        "id": "MvDhNKdRPKmi"
      }
    },
    {
      "cell_type": "code",
      "source": [
        "from array import *\n",
        "numbers = array(\"i\",[1,2,3,4,5,6,7,8,9,10])\n",
        "print(\"Original array: \",(numbers))\n",
        "numbers.insert(9,23)\n",
        "print(\"New List: \", numbers)"
      ],
      "metadata": {
        "colab": {
          "base_uri": "https://localhost:8080/"
        },
        "id": "WhGWksHLPLMJ",
        "outputId": "e5e5ef06-c80d-4444-e44a-049d3a50388b"
      },
      "execution_count": 35,
      "outputs": [
        {
          "output_type": "stream",
          "name": "stdout",
          "text": [
            "Original array:  array('i', [1, 2, 3, 4, 5, 6, 7, 8, 9, 10])\n",
            "New List:  array('i', [1, 2, 3, 4, 5, 6, 7, 8, 9, 23, 10])\n"
          ]
        }
      ]
    },
    {
      "cell_type": "markdown",
      "source": [
        "4"
      ],
      "metadata": {
        "id": "OkpBDpD3RTf0"
      }
    },
    {
      "cell_type": "code",
      "source": [
        "from array import *\n",
        "numbers = array(\"i\",[1,2,3,4,5])\n",
        "print(\"Original array: \",(numbers))\n",
        "numbers.reverse()\n",
        "print(\"New List: \", numbers)"
      ],
      "metadata": {
        "colab": {
          "base_uri": "https://localhost:8080/"
        },
        "id": "D27pnb4wRUfI",
        "outputId": "e840cbad-a754-47f7-91df-7c8b5958401c"
      },
      "execution_count": 22,
      "outputs": [
        {
          "output_type": "stream",
          "name": "stdout",
          "text": [
            "Original array:  array('i', [1, 2, 3, 4, 5])\n",
            "New List:  array('i', [5, 4, 3, 2, 1])\n"
          ]
        }
      ]
    },
    {
      "cell_type": "markdown",
      "source": [
        "5"
      ],
      "metadata": {
        "id": "FH6ZZEkQVIgN"
      }
    },
    {
      "cell_type": "code",
      "source": [
        "array = [2,4,6,4]\n",
        " \n",
        "arr_1 = []\n",
        "arr_2 = []\n",
        " \n",
        "for i in array:\n",
        "    if i not in arr_1:\n",
        "        arr_1.append(i)\n",
        "    elif i not in arr_2:\n",
        "        arr_2.append(i)\n",
        " \n",
        "print(arr_2)"
      ],
      "metadata": {
        "colab": {
          "base_uri": "https://localhost:8080/"
        },
        "id": "zTA18eC5VJo6",
        "outputId": "903e4e3b-08b3-4bb2-f81a-586e6601d09e"
      },
      "execution_count": 44,
      "outputs": [
        {
          "output_type": "stream",
          "name": "stdout",
          "text": [
            "[4]\n"
          ]
        }
      ]
    }
  ]
}